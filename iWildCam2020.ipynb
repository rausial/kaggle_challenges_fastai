{
 "cells": [
  {
   "cell_type": "code",
   "execution_count": null,
   "metadata": {},
   "outputs": [],
   "source": [
    "from fastai.vision.all import *\n",
    "from fastai.data.all import *"
   ]
  },
  {
   "cell_type": "code",
   "execution_count": null,
   "metadata": {},
   "outputs": [],
   "source": [
    "import torch"
   ]
  },
  {
   "cell_type": "code",
   "execution_count": null,
   "metadata": {},
   "outputs": [],
   "source": [
    "print(torch.cuda.device(0))\n",
    "print(torch.cuda.get_device_name(0))"
   ]
  },
  {
   "cell_type": "code",
   "execution_count": null,
   "metadata": {},
   "outputs": [],
   "source": [
    "# !kaggle competitions download -c iwildcam-2020-fgvc7 -p /storage/iwildcam-2020-fgvc7"
   ]
  },
  {
   "cell_type": "code",
   "execution_count": null,
   "metadata": {},
   "outputs": [],
   "source": [
    "# !unzip -q /storage/iwildcam-2020-fgvc7/iwildcam-2020-fgvc7.zip -d /storage/iwildcam-2020-fgvc7"
   ]
  },
  {
   "cell_type": "code",
   "execution_count": null,
   "metadata": {},
   "outputs": [],
   "source": [
    "from pathlib import Path\n",
    "input_path = Path('/storage/iwildcam-2020-fgvc7')\n",
    "my_data_path = Path('/storage/my-iwildcam2020-data')\n"
   ]
  },
  {
   "cell_type": "code",
   "execution_count": null,
   "metadata": {},
   "outputs": [],
   "source": [
    "def get_verified_image_files(path):\n",
    "    \n",
    "    if Path(my_data_path/'image_paths.pkl').exists():\n",
    "        with open(my_data_path/'image_paths.pkl', 'rb') as f:\n",
    "            files = pickle.load(f)\n",
    "    else:\n",
    "        files = get_image_files(path)\n",
    "        with open(my_data_path/'image_paths.pkl', 'wb') as f:\n",
    "            pickle.dump(files, f)\n",
    "        \n",
    "    blacklist = []\n",
    "    \n",
    "    if (path/'failed_imgs_lst.pkl').exists():\n",
    "        with open(path/'failed_imgs_lst.pkl', 'rb') as f:\n",
    "            blacklist = pickle.load(f)\n",
    "    else:\n",
    "        blacklist = verify_images(files)\n",
    "        with open(path/'failed_imgs_lst.pkl', 'wb') as f:\n",
    "            pickle.dump(blacklist, f)\n",
    "\n",
    "\n",
    "    return list(set(files).difference(blacklist))\n"
   ]
  },
  {
   "cell_type": "code",
   "execution_count": null,
   "metadata": {},
   "outputs": [],
   "source": [
    "def get_annotations_iwildcam(fname, prefix=None):\n",
    "    \"Open a COCO style json in `fname` and returns the lists of filenames (with maybe `prefix`) and labelled bboxes.\"\n",
    "    \n",
    "    annot_dict = json.load(open(fname))\n",
    "    id2images, id2cats = {}, {}\n",
    "    classes = {o['id']:o['name'] for o in annot_dict['categories']}\n",
    "    id2cats = {o['image_id']:o['category_id'] for o in annot_dict['annotations']}        \n",
    "    id2images = {o['id']:o['file_name'] for o in annot_dict['images']}\n",
    "                                     \n",
    "    ids = list(id2images.keys())\n",
    "    return [id2images[k] for k in ids], [id2cats[k] for k in ids]\n"
   ]
  },
  {
   "cell_type": "code",
   "execution_count": null,
   "metadata": {},
   "outputs": [],
   "source": [
    "# images, lbls = get_annotations_iwildcam(input_path/'iwildcam2020_train_annotations.json')\n",
    "# img2lbls = dict(zip(images, lbls))"
   ]
  },
  {
   "cell_type": "code",
   "execution_count": null,
   "metadata": {},
   "outputs": [],
   "source": [
    "def get_label_counts(img_labels):\n",
    "    label_counts = {}\n",
    "    \n",
    "    lbls_list = img_labels\n",
    "    classes = list(set(lbls_list))\n",
    "\n",
    "    for clss in classes:\n",
    "        imgs_class = [i for i, v in enumerate(lbls_list) if v == clss]\n",
    "        label_counts[clss] = len(imgs_class)\n",
    "        \n",
    "    return label_counts"
   ]
  },
  {
   "cell_type": "code",
   "execution_count": null,
   "metadata": {},
   "outputs": [],
   "source": [
    "def get_freq_label_images(path, min_count=2):\n",
    "    image_files = get_verified_image_files(path)\n",
    "    freq_image_files = []\n",
    "    images, lbls = get_annotations_iwildcam(input_path/'iwildcam2020_train_annotations.json')\n",
    "    img2lbls = dict(zip(images, lbls))\n",
    "    \n",
    "    label_counts = get_label_counts(lbls)\n",
    "    \n",
    "    for img in image_files:\n",
    "        lbl = img2lbls[img.name][0]\n",
    "        if label_counts[lbl] >= min_count:\n",
    "            freq_image_files.append(img)\n",
    "    \n",
    "    return freq_image_files\n"
   ]
  },
  {
   "cell_type": "code",
   "execution_count": null,
   "metadata": {},
   "outputs": [],
   "source": [
    "def make_train_df(annotation_file, outputs_path, min_cat_count=2):\n",
    "    images, lbls = get_annotations_iwildcam(annotation_file)\n",
    "    img2lbls = dict(zip(images, lbls))\n",
    "    \n",
    "    if not outputs_path.exists():\n",
    "        outputs_path.mkdir()\n",
    "        \n",
    "    label_counts = get_label_counts(lbls)\n",
    "    if Path(outputs_path/'image_paths.pkl').exists():\n",
    "        with open(outputs_path/'image_paths.pkl', 'rb') as f:\n",
    "            image_files = pickle.load(f)\n",
    "    else:\n",
    "        image_files = get_image_files(input_path/'train')\n",
    "        with open(outputs_path/'image_paths.pkl', 'wb') as f:\n",
    "            pickle.dump(image_files, f)\n",
    "\n",
    "    if (outputs_path/'failed_imgs_lst.pkl').exists():\n",
    "        with open(outputs_path/'failed_imgs_lst.pkl', 'rb') as f:\n",
    "            blacklist = pickle.load(f)\n",
    "    else:\n",
    "        blacklist = verify_images(image_files)\n",
    "        with open(outputs_path/'failed_imgs_lst.pkl', 'wb') as f:\n",
    "            pickle.dump(blacklist, f)\n",
    "\n",
    "    image_files = set(image_files).difference(blacklist)\n",
    "    \n",
    "    rare_label_images = []\n",
    "    for img in image_files:\n",
    "        lbl = img2lbls[img.name]\n",
    "        if label_counts[lbl] < min_cat_count:\n",
    "            rare_label_images.append(img)\n",
    "            \n",
    "    image_files = image_files.difference(rare_label_images)\n",
    "    \n",
    "    train_dict = {'file': [], 'category': []}\n",
    "    for img in image_files:\n",
    "        train_dict['file'].append(img.name)\n",
    "        train_dict['category'].append(img2lbls[img.name])\n",
    "        \n",
    "    return pd.DataFrame(train_dict)\n",
    "    \n",
    "\n",
    "    "
   ]
  },
  {
   "cell_type": "code",
   "execution_count": null,
   "metadata": {},
   "outputs": [],
   "source": [
    "train_df = make_train_df(input_path/'iwildcam2020_train_annotations.json',\n",
    "                        my_data_path, min_cat_count=5)"
   ]
  },
  {
   "cell_type": "code",
   "execution_count": null,
   "metadata": {},
   "outputs": [
    {
     "data": {
      "text/plain": [
       "174851"
      ]
     },
     "execution_count": null,
     "metadata": {},
     "output_type": "execute_result"
    }
   ],
   "source": [
    "len(train_df)"
   ]
  },
  {
   "cell_type": "code",
   "execution_count": null,
   "metadata": {},
   "outputs": [
    {
     "data": {
      "text/html": [
       "<div>\n",
       "<style scoped>\n",
       "    .dataframe tbody tr th:only-of-type {\n",
       "        vertical-align: middle;\n",
       "    }\n",
       "\n",
       "    .dataframe tbody tr th {\n",
       "        vertical-align: top;\n",
       "    }\n",
       "\n",
       "    .dataframe thead th {\n",
       "        text-align: right;\n",
       "    }\n",
       "</style>\n",
       "<table border=\"1\" class=\"dataframe\">\n",
       "  <thead>\n",
       "    <tr style=\"text-align: right;\">\n",
       "      <th></th>\n",
       "      <th>file</th>\n",
       "      <th>category</th>\n",
       "    </tr>\n",
       "  </thead>\n",
       "  <tbody>\n",
       "    <tr>\n",
       "      <th>0</th>\n",
       "      <td>8f2f86c8-21bc-11ea-a13a-137349068a90.jpg</td>\n",
       "      <td>404</td>\n",
       "    </tr>\n",
       "    <tr>\n",
       "      <th>1</th>\n",
       "      <td>9599d5d6-21bc-11ea-a13a-137349068a90.jpg</td>\n",
       "      <td>0</td>\n",
       "    </tr>\n",
       "    <tr>\n",
       "      <th>2</th>\n",
       "      <td>8c42b9d0-21bc-11ea-a13a-137349068a90.jpg</td>\n",
       "      <td>317</td>\n",
       "    </tr>\n",
       "    <tr>\n",
       "      <th>3</th>\n",
       "      <td>86e5d8b4-21bc-11ea-a13a-137349068a90.jpg</td>\n",
       "      <td>0</td>\n",
       "    </tr>\n",
       "    <tr>\n",
       "      <th>4</th>\n",
       "      <td>89feec48-21bc-11ea-a13a-137349068a90.jpg</td>\n",
       "      <td>90</td>\n",
       "    </tr>\n",
       "  </tbody>\n",
       "</table>\n",
       "</div>"
      ],
      "text/plain": [
       "                                       file  category\n",
       "0  8f2f86c8-21bc-11ea-a13a-137349068a90.jpg       404\n",
       "1  9599d5d6-21bc-11ea-a13a-137349068a90.jpg         0\n",
       "2  8c42b9d0-21bc-11ea-a13a-137349068a90.jpg       317\n",
       "3  86e5d8b4-21bc-11ea-a13a-137349068a90.jpg         0\n",
       "4  89feec48-21bc-11ea-a13a-137349068a90.jpg        90"
      ]
     },
     "execution_count": null,
     "metadata": {},
     "output_type": "execute_result"
    }
   ],
   "source": [
    "train_df.head()"
   ]
  },
  {
   "cell_type": "code",
   "execution_count": null,
   "metadata": {},
   "outputs": [],
   "source": [
    "db = DataBlock(\n",
    "    blocks=(ImageBlock, CategoryBlock),\n",
    "    get_x=ColReader(0, pref=input_path/\"train\"),\n",
    "    get_y=ColReader(1),\n",
    "    item_tfms=Resize(460),\n",
    "    batch_tfms=aug_transforms(size=224),\n",
    "    splitter=RandomSplitter(valid_pct=0.2, seed=42))"
   ]
  },
  {
   "cell_type": "code",
   "execution_count": null,
   "metadata": {},
   "outputs": [],
   "source": [
    "dls = db.dataloaders(train_df)"
   ]
  },
  {
   "cell_type": "code",
   "execution_count": null,
   "metadata": {},
   "outputs": [],
   "source": [
    "def get_valid_test_images(path, outputs_path):\n",
    "    image_files = get_image_files(path)\n",
    "    \n",
    "    if (outputs_path/'failed_test_imgs_lst.pkl').exists():\n",
    "        with open(outputs_path/'failed_test_imgs_lst.pkl', 'rb') as f:\n",
    "            blacklist = pickle.load(f)\n",
    "    else:\n",
    "        blacklist = verify_images(image_files)\n",
    "        with open(outputs_path/'failed_test_imgs_lst.pkl', 'wb') as f:\n",
    "            pickle.dump(blacklist, f)\n",
    "\n",
    "    image_files = set(image_files).difference(blacklist)\n",
    "    \n",
    "    return list(image_files)\n",
    "\n",
    "test_images = get_valid_test_images(input_path/'test', my_data_path)"
   ]
  },
  {
   "cell_type": "code",
   "execution_count": null,
   "metadata": {},
   "outputs": [],
   "source": [
    "test_images[:10]"
   ]
  },
  {
   "cell_type": "code",
   "execution_count": null,
   "metadata": {},
   "outputs": [],
   "source": [
    "dls.show_batch(max_n=10)"
   ]
  },
  {
   "cell_type": "code",
   "execution_count": null,
   "metadata": {},
   "outputs": [],
   "source": [
    "learn = cnn_learner(dls, resnet18, metrics=error_rate)"
   ]
  },
  {
   "cell_type": "code",
   "execution_count": null,
   "metadata": {},
   "outputs": [
    {
     "data": {
      "text/html": [],
      "text/plain": [
       "<IPython.core.display.HTML object>"
      ]
     },
     "metadata": {},
     "output_type": "display_data"
    },
    {
     "data": {
      "text/plain": [
       "SuggestedLRs(lr_min=0.010000000149011612, lr_steep=0.002511886414140463)"
      ]
     },
     "execution_count": null,
     "metadata": {},
     "output_type": "execute_result"
    },
    {
     "data": {
      "image/png": "[encoded data removed]",
      "text/plain": [
       "<Figure size 432x288 with 1 Axes>"
      ]
     },
     "metadata": {
      "needs_background": "light"
     },
     "output_type": "display_data"
    }
   ],
   "source": [
    "learn.lr_find()"
   ]
  },
  {
   "cell_type": "code",
   "execution_count": null,
   "metadata": {},
   "outputs": [
    {
     "data": {
      "text/html": [
       "<table border=\"1\" class=\"dataframe\">\n",
       "  <thead>\n",
       "    <tr style=\"text-align: left;\">\n",
       "      <th>epoch</th>\n",
       "      <th>train_loss</th>\n",
       "      <th>valid_loss</th>\n",
       "      <th>error_rate</th>\n",
       "      <th>time</th>\n",
       "    </tr>\n",
       "  </thead>\n",
       "  <tbody>\n",
       "    <tr>\n",
       "      <td>0</td>\n",
       "      <td>1.375350</td>\n",
       "      <td>1.086383</td>\n",
       "      <td>0.292679</td>\n",
       "      <td>31:55</td>\n",
       "    </tr>\n",
       "  </tbody>\n",
       "</table>"
      ],
      "text/plain": [
       "<IPython.core.display.HTML object>"
      ]
     },
     "metadata": {},
     "output_type": "display_data"
    },
    {
     "data": {
      "text/html": [
       "<table border=\"1\" class=\"dataframe\">\n",
       "  <thead>\n",
       "    <tr style=\"text-align: left;\">\n",
       "      <th>epoch</th>\n",
       "      <th>train_loss</th>\n",
       "      <th>valid_loss</th>\n",
       "      <th>error_rate</th>\n",
       "      <th>time</th>\n",
       "    </tr>\n",
       "  </thead>\n",
       "  <tbody>\n",
       "    <tr>\n",
       "      <td>0</td>\n",
       "      <td>0.883280</td>\n",
       "      <td>0.716304</td>\n",
       "      <td>0.199571</td>\n",
       "      <td>32:29</td>\n",
       "    </tr>\n",
       "    <tr>\n",
       "      <td>1</td>\n",
       "      <td>0.668465</td>\n",
       "      <td>0.529878</td>\n",
       "      <td>0.150558</td>\n",
       "      <td>32:59</td>\n",
       "    </tr>\n",
       "  </tbody>\n",
       "</table>"
      ],
      "text/plain": [
       "<IPython.core.display.HTML object>"
      ]
     },
     "metadata": {},
     "output_type": "display_data"
    }
   ],
   "source": [
    "learn.fine_tune(2, 2e-3)"
   ]
  },
  {
   "cell_type": "code",
   "execution_count": null,
   "metadata": {},
   "outputs": [],
   "source": [
    "learn.export()"
   ]
  },
  {
   "cell_type": "code",
   "execution_count": null,
   "metadata": {},
   "outputs": [],
   "source": [
    "# path = Path()\n",
    "# learn = load_learner(path/'export.pkl')"
   ]
  },
  {
   "cell_type": "code",
   "execution_count": null,
   "metadata": {},
   "outputs": [],
   "source": [
    "img_idx = 2201\n",
    "pred,pred_idx,probs = learn.predict(test_images[img_idx])\n",
    "img = PILImage.create(test_images[img_idx])\n",
    "\n",
    "img.show()\n",
    "print(f'Prediction: {pred}; Probability: {probs[pred_idx]:.04f}')"
   ]
  },
  {
   "cell_type": "code",
   "execution_count": null,
   "metadata": {},
   "outputs": [],
   "source": [
    "dl = learn.dls.test_dl(test_images)\n",
    "preds_batch, _, cat_ids = learn.get_preds(dl=dl, with_decoded=True)"
   ]
  },
  {
   "cell_type": "code",
   "execution_count": null,
   "metadata": {},
   "outputs": [],
   "source": [
    "cat_ids[:100]"
   ]
  },
  {
   "cell_type": "code",
   "execution_count": null,
   "metadata": {},
   "outputs": [],
   "source": [
    "img_names = [img.stem for img in test_images[:100]]"
   ]
  },
  {
   "cell_type": "code",
   "execution_count": null,
   "metadata": {},
   "outputs": [],
   "source": [
    "test_results = pd.DataFrame({'Id': img_names, 'Category': cat_ids})"
   ]
  },
  {
   "cell_type": "code",
   "execution_count": null,
   "metadata": {},
   "outputs": [],
   "source": [
    "!kaggle competitions submit -c iwildcam-2020-fgvc7 -f \"test_results.csv\" -m \"2nd try\""
   ]
  }
 ],
 "metadata": {
  "kernelspec": {
   "display_name": "Python 3",
   "language": "python",
   "name": "python3"
  }
 },
 "nbformat": 4,
 "nbformat_minor": 4
}
