{
 "cells": [
  {
   "cell_type": "code",
   "execution_count": null,
   "metadata": {},
   "outputs": [],
   "source": [
    "from fastai.vision.all import *\n",
    "from fastai.data.all import *"
   ]
  },
  {
   "cell_type": "code",
   "execution_count": null,
   "metadata": {},
   "outputs": [],
   "source": [
    "import torch"
   ]
  },
  {
   "cell_type": "code",
   "execution_count": null,
   "metadata": {},
   "outputs": [],
   "source": [
    "print(torch.cuda.device(0))\n",
    "print(torch.cuda.get_device_name(0))"
   ]
  },
  {
   "cell_type": "code",
   "execution_count": null,
   "metadata": {},
   "outputs": [],
   "source": [
    "from pathlib import Path\n",
    "input_path = Path('/storage/iwildcam-2020-fgvc7')\n",
    "my_data_path = Path('/storage/my-iwildcam2020-data')\n"
   ]
  },
  {
   "cell_type": "code",
   "execution_count": null,
   "metadata": {},
   "outputs": [],
   "source": [
    "def get_verified_image_files(path):\n",
    "    \n",
    "    if Path(my_data_path/'image_paths.pkl').exists():\n",
    "        with open(my_data_path/'image_paths.pkl', 'rb') as f:\n",
    "            files = pickle.load(f)\n",
    "    else:\n",
    "        files = get_image_files(path)\n",
    "        with open(my_data_path/'image_paths.pkl', 'wb') as f:\n",
    "            pickle.dump(files, f)\n",
    "        \n",
    "    blacklist = []\n",
    "    \n",
    "    if (path/'failed_imgs_lst.pkl').exists():\n",
    "        with open(path/'failed_imgs_lst.pkl', 'rb') as f:\n",
    "            blacklist = pickle.load(f)\n",
    "    else:\n",
    "        blacklist = verify_images(files)\n",
    "        with open(path/'failed_imgs_lst.pkl', 'wb') as f:\n",
    "            pickle.dump(blacklist, f)\n",
    "\n",
    "\n",
    "    return list(set(files).difference(blacklist))\n"
   ]
  },
  {
   "cell_type": "code",
   "execution_count": null,
   "metadata": {},
   "outputs": [],
   "source": [
    "def get_annotations_iwildcam(fname, prefix=None):\n",
    "    \"Open a COCO style json in `fname` and returns the lists of filenames (with maybe `prefix`) and labelled bboxes.\"\n",
    "    \n",
    "    annot_dict = json.load(open(fname))\n",
    "    id2images, id2cats = {}, collections.defaultdict(list)\n",
    "    classes = {o['id']:o['name'] for o in annot_dict['categories']}\n",
    "    for o in annot_dict['annotations']:\n",
    "        id2cats[o['image_id']].append(classes[o['category_id']])\n",
    "        \n",
    "    id2images = {o['id']:o['file_name'] for o in annot_dict['images']}\n",
    "    ids = list(id2images.keys())\n",
    "    return [id2images[k] for k in ids], [id2cats[k] for k in ids]\n"
   ]
  },
  {
   "cell_type": "code",
   "execution_count": null,
   "metadata": {},
   "outputs": [],
   "source": [
    "images, lbls = get_annotations_iwildcam(input_path/'iwildcam2020_train_annotations.json')\n",
    "img2lbls = dict(zip(images, lbls))"
   ]
  },
  {
   "cell_type": "code",
   "execution_count": null,
   "metadata": {},
   "outputs": [],
   "source": [
    "def get_label_counts(img_labels):\n",
    "    label_counts = {}\n",
    "    \n",
    "    lbls_list = [l[0] for l in img_labels]\n",
    "    classes = list(set(lbls_list))\n",
    "\n",
    "    for clss in classes:\n",
    "        imgs_class = [i for i, v in enumerate(lbls_list) if v == clss]\n",
    "        label_counts[clss] = len(imgs_class)\n",
    "        \n",
    "    return label_counts"
   ]
  },
  {
   "cell_type": "code",
   "execution_count": null,
   "metadata": {},
   "outputs": [],
   "source": [
    "def get_freq_label_images(path, min_count=2):\n",
    "    image_files = get_verified_image_files(path)\n",
    "    freq_image_files = []\n",
    "    images, lbls = get_annotations_iwildcam(input_path/'iwildcam2020_train_annotations.json')\n",
    "    img2lbls = dict(zip(images, lbls))\n",
    "    \n",
    "    label_counts = get_label_counts(lbls)\n",
    "    \n",
    "    for img in image_files:\n",
    "        lbl = img2lbls[img.name][0]\n",
    "        if label_counts[lbl] >= min_count:\n",
    "            freq_image_files.append(img)\n",
    "    \n",
    "    return freq_image_files\n"
   ]
  },
  {
   "cell_type": "code",
   "execution_count": null,
   "metadata": {},
   "outputs": [],
   "source": [
    "def make_train_df(annotation_file, outputs_path, min_cat_count=2):\n",
    "    images, lbls = get_annotations_iwildcam(annotation_file)\n",
    "    img2lbls = dict(zip(images, lbls))\n",
    "\n",
    "    label_counts = get_label_counts(lbls)\n",
    "    if Path(outputs_path/'image_paths.pkl').exists():\n",
    "        with open(outputs_path/'image_paths.pkl', 'rb') as f:\n",
    "            image_files = pickle.load(f)\n",
    "    else:\n",
    "        image_files = get_image_files(path)\n",
    "        with open(outputs_path/'image_paths.pkl', 'wb') as f:\n",
    "            pickle.dump(files, f)\n",
    "\n",
    "    if (outputs_path/'failed_imgs_lst.pkl').exists():\n",
    "        with open(outputs_path/'failed_imgs_lst.pkl', 'rb') as f:\n",
    "            blacklist = pickle.load(f)\n",
    "    else:\n",
    "        blacklist = verify_images(image_files)\n",
    "        with open(outputs_path/'failed_imgs_lst.pkl', 'wb') as f:\n",
    "            pickle.dump(blacklist, f)\n",
    "\n",
    "    image_files = set(image_files).difference(blacklist)\n",
    "    \n",
    "    rare_label_images = []\n",
    "    for img in image_files:\n",
    "        lbl = img2lbls[img.name][0]\n",
    "        if label_counts[lbl] < min_cat_count:\n",
    "            rare_label_images.append(img)\n",
    "            \n",
    "    image_files = image_files.difference(rare_label_images)\n",
    "    \n",
    "    train_dict = {'file': [], 'category': []}\n",
    "    for img in image_files:\n",
    "        train_dict['file'].append(img.name)\n",
    "        train_dict['category'].append(img2lbls[img.name][0])\n",
    "        \n",
    "    return pd.DataFrame(train_dict)\n",
    "    \n",
    "\n",
    "    "
   ]
  },
  {
   "cell_type": "code",
   "execution_count": null,
   "metadata": {},
   "outputs": [],
   "source": [
    "train_df = make_train_df(input_path/'iwildcam2020_train_annotations.json',\n",
    "                        my_data_path, min_cat_count=5)"
   ]
  },
  {
   "cell_type": "code",
   "execution_count": null,
   "metadata": {},
   "outputs": [],
   "source": [
    "train_df.head()"
   ]
  },
  {
   "cell_type": "code",
   "execution_count": null,
   "metadata": {},
   "outputs": [],
   "source": [
    "wildlife = DataBlock(\n",
    "    blocks=(ImageBlock, CategoryBlock),\n",
    "    get_x=ColReader(0, pref=input_path/\"train\"),\n",
    "    get_y=ColReader(1),\n",
    "    item_tfms=Resize(128), \n",
    "    splitter=RandomSplitter())"
   ]
  },
  {
   "cell_type": "code",
   "execution_count": null,
   "metadata": {},
   "outputs": [],
   "source": [
    "dls = wildlife.dataloaders(train_df)"
   ]
  },
  {
   "cell_type": "code",
   "execution_count": null,
   "metadata": {},
   "outputs": [],
   "source": [
    "dls.show_batch(max_n=20)"
   ]
  },
  {
   "cell_type": "code",
   "execution_count": null,
   "metadata": {},
   "outputs": [],
   "source": [
    "learn = cnn_learner(dls, resnet18, metrics=error_rate)"
   ]
  },
  {
   "cell_type": "code",
   "execution_count": null,
   "metadata": {},
   "outputs": [],
   "source": [
    "learn.fine_tune(1)"
   ]
  },
  {
   "cell_type": "code",
   "execution_count": null,
   "metadata": {},
   "outputs": [],
   "source": [
    "learn.export()"
   ]
  },
  {
   "cell_type": "code",
   "execution_count": null,
   "metadata": {},
   "outputs": [],
   "source": [
    "path = Path()\n",
    "learn = load_learner(path/'export.pkl')"
   ]
  },
  {
   "cell_type": "code",
   "execution_count": null,
   "metadata": {},
   "outputs": [],
   "source": [
    "interp = ClassificationInterpretation.from_learner(learn)"
   ]
  },
  {
   "cell_type": "code",
   "execution_count": null,
   "metadata": {},
   "outputs": [],
   "source": [
    "interp.plot_confusion_matrix()"
   ]
  },
  {
   "cell_type": "code",
   "execution_count": null,
   "metadata": {},
   "outputs": [],
   "source": [
    "interp.plot_top_losses(5, nrows=1)"
   ]
  },
  {
   "cell_type": "code",
   "execution_count": null,
   "metadata": {},
   "outputs": [],
   "source": [
    "cleaner = ImageClassifierCleaner(learn)\n",
    "cleaner"
   ]
  }
 ],
 "metadata": {
  "kernelspec": {
   "display_name": "Python 3",
   "language": "python",
   "name": "python3"
  }
 },
 "nbformat": 4,
 "nbformat_minor": 4
}
